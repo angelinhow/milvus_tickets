{
 "cells": [
  {
   "cell_type": "code",
   "execution_count": 2,
   "id": "a0355a80",
   "metadata": {},
   "outputs": [],
   "source": [
    "from selenium import webdriver\n",
    "from selenium.webdriver.common.keys import Keys\n",
    "from selenium.webdriver.common.by import By\n",
    "from selenium.webdriver.support.ui import Select\n",
    "from selenium.webdriver.support.ui import WebDriverWait\n",
    "from selenium.webdriver.support import expected_conditions as EC\n",
    "from selenium.webdriver.common.action_chains import ActionChains\n",
    "import time\n",
    "from datetime import datetime\n",
    "from selenium.webdriver.chrome.options import Options\n",
    "\n",
    "driver = webdriver.Chrome()\n",
    "\n",
    "driver.get(\"https://portal.milvus.com.br\")\n",
    "\n",
    "#Acessando a Milvus\n",
    "login = driver.find_element(By.XPATH,'//*[@id=\"wrap\"]/div/div/div/div/form/div[1]/input')\n",
    "password = driver.find_element(By.XPATH,'//*[@id=\"wrap\"]/div/div/div/div/form/div[2]/input')\n",
    "buttonLogin = driver.find_element(By.XPATH,'//*[@id=\"wrap\"]/div/div/div/div/form/div[4]/button').click()\n",
    "login.send_keys(\"angelo.trentin@schadek.com.br\")\n",
    "password.send_keys(\"A32626381!\")\n",
    "buttonLogin\n",
    "\n",
    "#Acessando página de relatório por técnico\n",
    "pause = time.sleep(10)\n",
    "buttonChat = driver.find_element(By.XPATH,'/html/body/div[8]/div/div/div[3]/div/button').click()\n",
    "relatorioTecnico = driver.get(\"https://portal.milvus.com.br/#/relatorios/chamados-por-tecnico\")\n",
    "pause\n",
    "buttonChat\n",
    "relatorioTecnico\n",
    "\n",
    "#Parâmetros Ticket por Técnico\n",
    "pause\n",
    "status = driver.find_element(By.XPATH, '//*[@id=\"wrap\"]/div/div[2]/panel/div/div[2]/div/div[1]/div[2]/select-padrao/div/div/a/span[2]').click()\n",
    "pause\n",
    "driver.find_element(By.XPATH, '//*[@id=\"wrap\"]/div/div[2]/panel/div/div[2]/div/div[1]/div[2]/select-padrao/div/div/div/div[1]/input').send_keys(\"Tickets abertos\")\n",
    "driver.find_element(By.XPATH, '//*[@id=\"wrap\"]/div/div[2]/panel/div/div[2]/div/div[1]/div[2]/select-padrao/div/div/div/div[1]/input').send_keys(\"\\ue007\")\n",
    "\n",
    "#Classificação\n",
    "driver.find_element(By.XPATH, '//*[@id=\"wrap\"]/div/div[2]/panel/div/div[2]/div/div[1]/div[3]/div/select').click()\n",
    "select = Select(driver.find_element(By.XPATH, '//*[@id=\"wrap\"]/div/div[2]/panel/div/div[2]/div/div[1]/div[3]/div/select'))\n",
    "pause\n",
    "select.select_by_visible_text(\"Todos\")\n",
    "\n",
    "#Definindo Data Inicial\n",
    "driver.find_element(By.XPATH, '/html/body/div[3]/div/div[2]/div/div/div/div[2]/panel/div/div[2]/div/div[1]/div[4]/input').click()\n",
    "driver.find_element(By.XPATH, '/html/body/div[3]/div/div[2]/div/div/div/div[2]/panel/div/div[2]/div/div[1]/div[4]/input').clear()\n",
    "driver.find_element(By.XPATH, '/html/body/div[3]/div/div[2]/div/div/div/div[2]/panel/div/div[2]/div/div[1]/div[4]/input').send_keys('05052020')\n",
    "pause\n",
    "\n",
    "#Gerando Relatório\n",
    "driver.find_element(By.XPATH, '//*[@id=\"wrap\"]/div/div[2]/panel/div/div[2]/div/div[2]/div[3]/label/button').click()\n",
    "\n",
    "#Download de Relatório\n",
    "for _ in range(100):\n",
    "    driver.execute_script(\"window.scrollTo(0, document.body.scrollHeight);\")\n",
    "    \n",
    "    "
   ]
  },
  {
   "cell_type": "code",
   "execution_count": null,
   "id": "bf6e7c75",
   "metadata": {
    "scrolled": false
   },
   "outputs": [],
   "source": []
  },
  {
   "cell_type": "code",
   "execution_count": null,
   "id": "09d4ad8d",
   "metadata": {},
   "outputs": [],
   "source": []
  },
  {
   "cell_type": "code",
   "execution_count": null,
   "id": "d887f906",
   "metadata": {},
   "outputs": [],
   "source": []
  },
  {
   "cell_type": "code",
   "execution_count": null,
   "id": "c8526a4e",
   "metadata": {},
   "outputs": [],
   "source": []
  },
  {
   "cell_type": "code",
   "execution_count": null,
   "id": "55d2d6c7",
   "metadata": {},
   "outputs": [],
   "source": []
  },
  {
   "cell_type": "code",
   "execution_count": null,
   "id": "4772dbca",
   "metadata": {},
   "outputs": [],
   "source": []
  },
  {
   "cell_type": "code",
   "execution_count": null,
   "id": "437d4868",
   "metadata": {},
   "outputs": [],
   "source": []
  },
  {
   "cell_type": "code",
   "execution_count": null,
   "id": "93fca4df",
   "metadata": {},
   "outputs": [],
   "source": []
  }
 ],
 "metadata": {
  "kernelspec": {
   "display_name": "Python 3 (ipykernel)",
   "language": "python",
   "name": "python3"
  },
  "language_info": {
   "codemirror_mode": {
    "name": "ipython",
    "version": 3
   },
   "file_extension": ".py",
   "mimetype": "text/x-python",
   "name": "python",
   "nbconvert_exporter": "python",
   "pygments_lexer": "ipython3",
   "version": "3.9.13"
  }
 },
 "nbformat": 4,
 "nbformat_minor": 5
}
