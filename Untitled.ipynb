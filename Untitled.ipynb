{
 "cells": [
  {
   "cell_type": "code",
   "execution_count": 15,
   "id": "a0355a80",
   "metadata": {},
   "outputs": [
    {
     "name": "stdout",
     "output_type": "stream",
     "text": [
      "E-mail Enviado\n"
     ]
    }
   ],
   "source": [
    "from selenium import webdriver\n",
    "from selenium.webdriver.common.keys import Keys\n",
    "from selenium.webdriver.common.by import By\n",
    "from selenium.webdriver.support.ui import Select\n",
    "from selenium.webdriver.support.ui import WebDriverWait\n",
    "from selenium.webdriver.support import expected_conditions as EC\n",
    "from selenium.webdriver.common.action_chains import ActionChains\n",
    "import time\n",
    "from datetime import date\n",
    "from selenium.webdriver.chrome.options import Options\n",
    "\n",
    "driver = webdriver.Chrome()\n",
    "\n",
    "driver.get(\"https://portal.milvus.com.br\")\n",
    "\n",
    "#Acessando a Milvus\n",
    "login = driver.find_element(By.XPATH,'//*[@id=\"wrap\"]/div/div/div/div/form/div[1]/input')\n",
    "password = driver.find_element(By.XPATH,'//*[@id=\"wrap\"]/div/div/div/div/form/div[2]/input')\n",
    "buttonLogin = driver.find_element(By.XPATH,'//*[@id=\"wrap\"]/div/div/div/div/form/div[4]/button').click()\n",
    "login.send_keys(\"angelo.trentin@schadek.com.br\")\n",
    "password.send_keys(\"\")\n",
    "buttonLogin\n",
    "\n",
    "#Acessando página de relatório por técnico\n",
    "pause = time.sleep(10)\n",
    "buttonChat = driver.find_element(By.XPATH,'/html/body/div[8]/div/div/div[3]/div/button').click()\n",
    "relatorioTecnico = driver.get(\"https://portal.milvus.com.br/#/relatorios/chamados-por-tecnico\")\n",
    "pause\n",
    "buttonChat\n",
    "relatorioTecnico\n",
    "\n",
    "#Parâmetros Ticket por Técnico\n",
    "pause\n",
    "status = driver.find_element(By.XPATH, '//*[@id=\"wrap\"]/div/div[2]/panel/div/div[2]/div/div[1]/div[2]/select-padrao/div/div/a/span[2]').click()\n",
    "pause\n",
    "driver.find_element(By.XPATH, '//*[@id=\"wrap\"]/div/div[2]/panel/div/div[2]/div/div[1]/div[2]/select-padrao/div/div/div/div[1]/input').send_keys(\"Tickets abertos\")\n",
    "driver.find_element(By.XPATH, '//*[@id=\"wrap\"]/div/div[2]/panel/div/div[2]/div/div[1]/div[2]/select-padrao/div/div/div/div[1]/input').send_keys(\"\\ue007\")\n",
    "\n",
    "#Classificação\n",
    "driver.find_element(By.XPATH, '//*[@id=\"wrap\"]/div/div[2]/panel/div/div[2]/div/div[1]/div[3]/div/select').click()\n",
    "select = Select(driver.find_element(By.XPATH, '//*[@id=\"wrap\"]/div/div[2]/panel/div/div[2]/div/div[1]/div[3]/div/select'))\n",
    "pause\n",
    "select.select_by_visible_text(\"Todos\")\n",
    "\n",
    "#Definindo Data Inicial\n",
    "driver.find_element(By.XPATH, '/html/body/div[3]/div/div[2]/div/div/div/div[2]/panel/div/div[2]/div/div[1]/div[4]/input').click()\n",
    "driver.find_element(By.XPATH, '/html/body/div[3]/div/div[2]/div/div/div/div[2]/panel/div/div[2]/div/div[1]/div[4]/input').clear()\n",
    "driver.find_element(By.XPATH, '/html/body/div[3]/div/div[2]/div/div/div/div[2]/panel/div/div[2]/div/div[1]/div[4]/input').send_keys('05052020')\n",
    "pause\n",
    "\n",
    "#Gerando Relatório\n",
    "driver.find_element(By.XPATH, '//*[@id=\"wrap\"]/div/div[2]/panel/div/div[2]/div/div[2]/div[3]/label/button').click()\n",
    "\n",
    "#Download de Relatório\n",
    "for _ in range(100):\n",
    "    driver.execute_script(\"window.scrollTo(0, document.body.scrollHeight);\")\n",
    "    pause\n",
    "    driver.save_screenshot(\"TicketsPorTecnico.png\")\n",
    "    \n",
    "#Enviando arquivo por e-mail para José Matheus\n",
    "import win32com.client as win32\n",
    "\n",
    "#Integração com Outlook\n",
    "outlook = win32.Dispatch('outlook.application')\n",
    "\n",
    "#Criando E-mail\n",
    "email = outlook.CreateItem(0)\n",
    "\n",
    "data = date.today()\n",
    "dataFormat = data.strftime('%d/%m/%Y')\n",
    "email.To = \"jose.oliveira@schadek.com.br\"\n",
    "email.Subject = \"Relatório de Tickets por Técnico\"\n",
    "email.HTMLBody = f\"\"\"\n",
    "<p>Olá José,</p>\n",
    "\n",
    "<p>Segue em anexo o <strong>Relatório de Tickets</strong> por Técnico do dia {dataFormat}</p>\n",
    "\n",
    "<p>Atenciosamente,</p>\n",
    "<p>Bot do Angelo</p>\n",
    "\"\"\"\n",
    "anexo = \"C://Users/atrentin/MilvusRelatorio/TicketsPorTecnico.png\"\n",
    "email.Attachments.Add(anexo)\n",
    "\n",
    "email.Send()\n",
    "print('E-mail Enviado')"
   ]
  },
  {
   "cell_type": "code",
   "execution_count": 13,
   "id": "09d4ad8d",
   "metadata": {
    "scrolled": true
   },
   "outputs": [
    {
     "name": "stdout",
     "output_type": "stream",
     "text": [
      "27/10/2022\n"
     ]
    }
   ],
   "source": []
  },
  {
   "cell_type": "code",
   "execution_count": null,
   "id": "d887f906",
   "metadata": {},
   "outputs": [],
   "source": []
  },
  {
   "cell_type": "code",
   "execution_count": null,
   "id": "c8526a4e",
   "metadata": {},
   "outputs": [],
   "source": []
  },
  {
   "cell_type": "code",
   "execution_count": null,
   "id": "55d2d6c7",
   "metadata": {},
   "outputs": [],
   "source": []
  },
  {
   "cell_type": "code",
   "execution_count": null,
   "id": "4772dbca",
   "metadata": {},
   "outputs": [],
   "source": []
  },
  {
   "cell_type": "code",
   "execution_count": null,
   "id": "437d4868",
   "metadata": {},
   "outputs": [],
   "source": []
  },
  {
   "cell_type": "code",
   "execution_count": null,
   "id": "93fca4df",
   "metadata": {},
   "outputs": [],
   "source": []
  }
 ],
 "metadata": {
  "kernelspec": {
   "display_name": "Python 3 (ipykernel)",
   "language": "python",
   "name": "python3"
  },
  "language_info": {
   "codemirror_mode": {
    "name": "ipython",
    "version": 3
   },
   "file_extension": ".py",
   "mimetype": "text/x-python",
   "name": "python",
   "nbconvert_exporter": "python",
   "pygments_lexer": "ipython3",
   "version": "3.9.13"
  }
 },
 "nbformat": 4,
 "nbformat_minor": 5
}
